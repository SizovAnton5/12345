{
  "nbformat": 4,
  "nbformat_minor": 0,
  "metadata": {
    "colab": {
      "provenance": [],
      "authorship_tag": "ABX9TyNe6XqTVWSUbtyV/p+hlEmk",
      "include_colab_link": true
    },
    "kernelspec": {
      "name": "python3",
      "display_name": "Python 3"
    },
    "language_info": {
      "name": "python"
    }
  },
  "cells": [
    {
      "cell_type": "markdown",
      "metadata": {
        "id": "view-in-github",
        "colab_type": "text"
      },
      "source": [
        "<a href=\"https://colab.research.google.com/github/SizovAnton5/12345/blob/main/Untitled2.ipynb\" target=\"_parent\"><img src=\"https://colab.research.google.com/assets/colab-badge.svg\" alt=\"Open In Colab\"/></a>"
      ]
    },
    {
      "cell_type": "markdown",
      "source": [
        "<h1> Инструкция </h1>\n",
        " <ol>\n",
        " <li><b>На моём сайте vitrina есть список ресурсов с данными о органах государственной власти</b></li>\n",
        " <li><i>Ссылки на данные ресурсы</i></li>\n",
        " <li><b>Картинка Герб Москвы</b></li>\n",
        " <li><b>Карусель изображений с мэром Москвы и его замами</b></li>\n",
        " </ol> "
      ],
      "metadata": {
        "id": "ukQTSs6gAbnr"
      }
    }
  ]
}